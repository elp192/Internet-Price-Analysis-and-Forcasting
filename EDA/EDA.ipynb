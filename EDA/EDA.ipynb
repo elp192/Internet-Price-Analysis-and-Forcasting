{
 "cells": [
  {
   "cell_type": "code",
   "execution_count": 1,
   "id": "58523b43",
   "metadata": {
    "scrolled": true
   },
   "outputs": [],
   "source": [
    "# Import dependencies\n",
    "import pandas as pd\n",
    "from matplotlib import pyplot"
   ]
  },
  {
   "cell_type": "code",
   "execution_count": 2,
   "id": "4bf9595c",
   "metadata": {},
   "outputs": [],
   "source": [
    "# Read file\n",
    "xls=pd.ExcelFile(\"../resource/data.xlsx\")\n",
    "df1 = pd.read_excel(xls, 'Price')\n",
    "df2 = pd.read_excel(xls, 'Location')"
   ]
  },
  {
   "cell_type": "code",
   "execution_count": 3,
   "id": "c47ec667",
   "metadata": {},
   "outputs": [],
   "source": [
    "# Change the column name\n",
    "df1_=df1.rename(columns={'LOCATION_ID':'ID'})"
   ]
  },
  {
   "cell_type": "code",
   "execution_count": 4,
   "id": "292cde8e",
   "metadata": {},
   "outputs": [
    {
     "name": "stdout",
     "output_type": "stream",
     "text": [
      "(3927, 6)\n"
     ]
    },
    {
     "data": {
      "text/html": [
       "<div>\n",
       "<style scoped>\n",
       "    .dataframe tbody tr th:only-of-type {\n",
       "        vertical-align: middle;\n",
       "    }\n",
       "\n",
       "    .dataframe tbody tr th {\n",
       "        vertical-align: top;\n",
       "    }\n",
       "\n",
       "    .dataframe thead th {\n",
       "        text-align: right;\n",
       "    }\n",
       "</style>\n",
       "<table border=\"1\" class=\"dataframe\">\n",
       "  <thead>\n",
       "    <tr style=\"text-align: right;\">\n",
       "      <th></th>\n",
       "      <th>ID</th>\n",
       "      <th>YEAR</th>\n",
       "      <th>INTERNET_PRICE</th>\n",
       "      <th>CITY</th>\n",
       "      <th>REGION</th>\n",
       "      <th>COUNTRY</th>\n",
       "    </tr>\n",
       "  </thead>\n",
       "  <tbody>\n",
       "    <tr>\n",
       "      <th>0</th>\n",
       "      <td>36333877</td>\n",
       "      <td>2020</td>\n",
       "      <td>109.553333</td>\n",
       "      <td>Anchorage</td>\n",
       "      <td>Alaska</td>\n",
       "      <td>United States</td>\n",
       "    </tr>\n",
       "    <tr>\n",
       "      <th>1</th>\n",
       "      <td>97066708</td>\n",
       "      <td>2020</td>\n",
       "      <td>109.223301</td>\n",
       "      <td>Male</td>\n",
       "      <td>Kaafu Atoll</td>\n",
       "      <td>Maldives</td>\n",
       "    </tr>\n",
       "    <tr>\n",
       "      <th>2</th>\n",
       "      <td>86180405</td>\n",
       "      <td>2020</td>\n",
       "      <td>104.833333</td>\n",
       "      <td>Harare</td>\n",
       "      <td>NaN</td>\n",
       "      <td>Zimbabwe</td>\n",
       "    </tr>\n",
       "    <tr>\n",
       "      <th>3</th>\n",
       "      <td>93339430</td>\n",
       "      <td>2020</td>\n",
       "      <td>101.023925</td>\n",
       "      <td>Abu Dhabi</td>\n",
       "      <td>Emirate of Abu Dhabi</td>\n",
       "      <td>United Arab Emirates</td>\n",
       "    </tr>\n",
       "    <tr>\n",
       "      <th>4</th>\n",
       "      <td>26718520</td>\n",
       "      <td>2020</td>\n",
       "      <td>99.333333</td>\n",
       "      <td>Santa Rosa</td>\n",
       "      <td>California</td>\n",
       "      <td>United States</td>\n",
       "    </tr>\n",
       "  </tbody>\n",
       "</table>\n",
       "</div>"
      ],
      "text/plain": [
       "         ID  YEAR  INTERNET_PRICE        CITY                REGION  \\\n",
       "0  36333877  2020      109.553333   Anchorage                Alaska   \n",
       "1  97066708  2020      109.223301        Male           Kaafu Atoll   \n",
       "2  86180405  2020      104.833333      Harare                   NaN   \n",
       "3  93339430  2020      101.023925   Abu Dhabi  Emirate of Abu Dhabi   \n",
       "4  26718520  2020       99.333333  Santa Rosa            California   \n",
       "\n",
       "                COUNTRY  \n",
       "0         United States  \n",
       "1              Maldives  \n",
       "2              Zimbabwe  \n",
       "3  United Arab Emirates  \n",
       "4         United States  "
      ]
     },
     "execution_count": 4,
     "metadata": {},
     "output_type": "execute_result"
    }
   ],
   "source": [
    "# left Join df1_ and df2\n",
    "df_new=pd.merge(df1_,df2,on='ID',how='left')\n",
    "print(df_new.shape)\n",
    "\n",
    "# Represent the first five rows of new table\n",
    "df_new.head()"
   ]
  },
  {
   "cell_type": "code",
   "execution_count": 5,
   "id": "054f3e17",
   "metadata": {},
   "outputs": [
    {
     "data": {
      "text/plain": [
       "count    3927.000000\n",
       "mean       39.996615\n",
       "std        27.179158\n",
       "min         1.866995\n",
       "25%        23.121728\n",
       "50%        37.403907\n",
       "75%        54.163430\n",
       "max       962.189981\n",
       "Name: INTERNET_PRICE, dtype: float64"
      ]
     },
     "execution_count": 5,
     "metadata": {},
     "output_type": "execute_result"
    }
   ],
   "source": [
    "# Summary Statistic for INTERNET_Price column\n",
    "df_new.describe().INTERNET_PRICE"
   ]
  },
  {
   "cell_type": "code",
   "execution_count": 6,
   "id": "4901b5ad",
   "metadata": {},
   "outputs": [
    {
     "name": "stdout",
     "output_type": "stream",
     "text": [
      "<class 'pandas.core.frame.DataFrame'>\n",
      "Int64Index: 3927 entries, 0 to 3926\n",
      "Data columns (total 6 columns):\n",
      " #   Column          Non-Null Count  Dtype  \n",
      "---  ------          --------------  -----  \n",
      " 0   ID              3927 non-null   int64  \n",
      " 1   YEAR            3927 non-null   int64  \n",
      " 2   INTERNET_PRICE  3927 non-null   float64\n",
      " 3   CITY            3927 non-null   object \n",
      " 4   REGION          3270 non-null   object \n",
      " 5   COUNTRY         3927 non-null   object \n",
      "dtypes: float64(1), int64(2), object(3)\n",
      "memory usage: 214.8+ KB\n"
     ]
    }
   ],
   "source": [
    "# Information about DataFrame\n",
    "df_new.info()"
   ]
  },
  {
   "cell_type": "code",
   "execution_count": 7,
   "id": "d701d8cd",
   "metadata": {},
   "outputs": [
    {
     "data": {
      "text/plain": [
       "0"
      ]
     },
     "execution_count": 7,
     "metadata": {},
     "output_type": "execute_result"
    }
   ],
   "source": [
    "# Determine if we have duplication in the dataset\n",
    "df_new.duplicated().sum()"
   ]
  },
  {
   "cell_type": "code",
   "execution_count": 8,
   "id": "3040db88",
   "metadata": {},
   "outputs": [
    {
     "data": {
      "text/plain": [
       "(35, 6)"
      ]
     },
     "execution_count": 8,
     "metadata": {},
     "output_type": "execute_result"
    }
   ],
   "source": [
    "# Find outliers \n",
    "Q1 = df_new.INTERNET_PRICE.quantile(0.25)\n",
    "Q3 = df_new.INTERNET_PRICE.quantile(0.75)\n",
    "IQR = Q3 - Q1\n",
    "lowerbound = Q1-(1.5 * IQR)\n",
    "upperbound = Q3 + (1.5 * IQR)\n",
    "df_outlier=df_new[(df_new.INTERNET_PRICE < lowerbound) | (df_new.INTERNET_PRICE > upperbound)]\n",
    "df_outlier.shape"
   ]
  },
  {
   "cell_type": "code",
   "execution_count": 9,
   "id": "e744d75a",
   "metadata": {},
   "outputs": [
    {
     "data": {
      "text/plain": [
       "(3892, 6)"
      ]
     },
     "execution_count": 9,
     "metadata": {},
     "output_type": "execute_result"
    }
   ],
   "source": [
    "# Eliminate outliers\n",
    "df_new.drop(df_new[(df_new.INTERNET_PRICE > upperbound)|(df_new.INTERNET_PRICE<lowerbound) ].index , inplace=True)\n",
    "df_new.shape"
   ]
  },
  {
   "cell_type": "code",
   "execution_count": 10,
   "id": "a58cff55",
   "metadata": {},
   "outputs": [
    {
     "data": {
      "text/plain": [
       "Text(0, 0.5, 'Internet Price')"
      ]
     },
     "execution_count": 10,
     "metadata": {},
     "output_type": "execute_result"
    },
    {
     "data": {
      "image/png": "[encoded data removed]",
      "text/plain": [
       "<Figure size 432x288 with 1 Axes>"
      ]
     },
     "metadata": {
      "needs_background": "light"
     },
     "output_type": "display_data"
    }
   ],
   "source": [
    "# Box plot for Internet_price column\n",
    "data=df_new.INTERNET_PRICE\n",
    "fig = pyplot.figure()\n",
    "ax = fig.add_subplot()\n",
    "pyplot.boxplot(data)\n",
    "ax.set_ylabel('Internet Price')"
   ]
  },
  {
   "cell_type": "code",
   "execution_count": 11,
   "id": "82e84398",
   "metadata": {},
   "outputs": [
    {
     "name": "stdout",
     "output_type": "stream",
     "text": [
      "Number of City: 673\n",
      "Number of Country: 118\n",
      "Number of Region: 348\n",
      "Number of Year: 11\n"
     ]
    }
   ],
   "source": [
    "# Number of city, Country, region after eliminating outliers\n",
    "print(f\"Number of City: {df_new['CITY'].nunique()}\")\n",
    "print(f\"Number of Country: {df_new['COUNTRY'].nunique()}\")\n",
    "print(f\"Number of Region: {df_new['REGION'].nunique()}\")\n",
    "print(f\"Number of Year: {df_new['YEAR'].nunique()}\")"
   ]
  },
  {
   "cell_type": "code",
   "execution_count": 14,
   "id": "1b6af87f",
   "metadata": {},
   "outputs": [
    {
     "data": {
      "image/png": "[encoded data removed]",
      "text/plain": [
       "<Figure size 432x288 with 1 Axes>"
      ]
     },
     "metadata": {
      "needs_background": "light"
     },
     "output_type": "display_data"
    }
   ],
   "source": [
    "# Represent Country, City, and Region by barchart\n",
    "X = ['Country','City', 'Region']\n",
    "Y = [df_new['COUNTRY'].nunique(),df_new['CITY'].nunique(),df_new['REGION'].nunique()]\n",
    "pyplot.bar(X,Y)\n",
    "pyplot.ylabel('Count')\n",
    "# pyplot.show()\n",
    "\n",
    "# Add number above \n",
    "xlocs, xlabs = pyplot.xticks()\n",
    "for i, v in enumerate(Y):\n",
    "    pyplot.text(xlocs[i] - 0.1, v + 0.03, str(v))"
   ]
  },
  {
   "cell_type": "code",
   "execution_count": 15,
   "id": "4338fbbb",
   "metadata": {},
   "outputs": [],
   "source": [
    "# Export new merged table after preprocessing \n",
    "df_new.to_excel('df_new.xlsx')"
   ]
  },
  {
   "cell_type": "code",
   "execution_count": 12,
   "id": "13e3a146",
   "metadata": {},
   "outputs": [
    {
     "data": {
      "image/png": "[encoded data removed]",
      "text/plain": [
       "<Figure size 432x288 with 1 Axes>"
      ]
     },
     "metadata": {
      "needs_background": "light"
     },
     "output_type": "display_data"
    }
   ],
   "source": [
    "#  Range of Internet price in Canada during 2010-2025\n",
    "# Create a new DataFrame for Canada\n",
    "df_new5=df_new[(df_new['COUNTRY']=='Canada')]\n",
    "df_new5\n",
    "\n",
    "# Sort the new DATAFRAME based on year\n",
    "df_new6=df_new5.sort_values(by=['YEAR'])\n",
    "\n",
    "# Create boxplot\n",
    "price_2010=df_new6[df_new6['YEAR']==2010]['INTERNET_PRICE']\n",
    "price_2011=df_new6[df_new6['YEAR']==2011]['INTERNET_PRICE']\n",
    "price_2012=df_new6[df_new6['YEAR']==2012]['INTERNET_PRICE']\n",
    "price_2013=df_new6[df_new6['YEAR']==2013]['INTERNET_PRICE']\n",
    "price_2014=df_new6[df_new6['YEAR']==2014]['INTERNET_PRICE']\n",
    "price_2015=df_new6[df_new6['YEAR']==2015]['INTERNET_PRICE']\n",
    "price_2016=df_new6[df_new6['YEAR']==2016]['INTERNET_PRICE']\n",
    "price_2017=df_new6[df_new6['YEAR']==2017]['INTERNET_PRICE']\n",
    "price_2018=df_new6[df_new6['YEAR']==2018]['INTERNET_PRICE']\n",
    "price_2019=df_new6[df_new6['YEAR']==2019]['INTERNET_PRICE']\n",
    "price_2020=df_new6[df_new6['YEAR']==2020]['INTERNET_PRICE']\n",
    "\n",
    "box_plot_data=[price_2010,price_2011,price_2012,price_2013,price_2014,price_2015,price_2016,price_2017,price_2018,price_2019,price_2020]\n",
    "\n",
    "fig = pyplot.figure()\n",
    "ax = fig.add_subplot()\n",
    "ax.set_ylabel('Internet Price')\n",
    "ax.set_xlabel('Year')\n",
    "ax.set_title('Canada')\n",
    "pyplot.boxplot(box_plot_data,labels=[2010,2011,2012,2013,2014,2015,2016,2017,2018,2019,2020])\n",
    "pyplot.show()"
   ]
  },
  {
   "cell_type": "code",
   "execution_count": 13,
   "id": "359afffc",
   "metadata": {},
   "outputs": [
    {
     "data": {
      "image/png": "[encoded data removed]",
      "text/plain": [
       "<Figure size 432x288 with 1 Axes>"
      ]
     },
     "metadata": {
      "needs_background": "light"
     },
     "output_type": "display_data"
    }
   ],
   "source": [
    "# Create a new DataFrame for United States\n",
    "df_new7=df_new6[(df_new6['COUNTRY']=='United States')]\n",
    "\n",
    "# Sort the new DATAFRAME based on year\n",
    "df_new7=df_new6.sort_values(by=['YEAR'])\n",
    "\n",
    "# Create BoxPlot\n",
    "price_2010=df_new7[df_new7['YEAR']==2010]['INTERNET_PRICE']\n",
    "price_2011=df_new7[df_new7['YEAR']==2011]['INTERNET_PRICE']\n",
    "price_2012=df_new7[df_new7['YEAR']==2012]['INTERNET_PRICE']\n",
    "price_2013=df_new7[df_new7['YEAR']==2013]['INTERNET_PRICE']\n",
    "price_2014=df_new7[df_new7['YEAR']==2014]['INTERNET_PRICE']\n",
    "price_2015=df_new7[df_new7['YEAR']==2015]['INTERNET_PRICE']\n",
    "price_2016=df_new7[df_new7['YEAR']==2016]['INTERNET_PRICE']\n",
    "price_2017=df_new7[df_new7['YEAR']==2017]['INTERNET_PRICE']\n",
    "price_2018=df_new7[df_new7['YEAR']==2018]['INTERNET_PRICE']\n",
    "price_2019=df_new7[df_new7['YEAR']==2019]['INTERNET_PRICE']\n",
    "price_2020=df_new7[df_new7['YEAR']==2020]['INTERNET_PRICE']\n",
    "\n",
    "box_plot_data=[price_2010,price_2011,price_2012,price_2013,price_2014,price_2015,price_2016,price_2017,price_2018,price_2019,price_2020]\n",
    "\n",
    "\n",
    "fig = pyplot.figure()\n",
    "ax = fig.add_subplot()\n",
    "ax.set_ylabel('Internet Price')\n",
    "ax.set_xlabel('Year')\n",
    "ax.set_title('United States')\n",
    "pyplot.boxplot(box_plot_data,labels=[2010,2011,2012,2013,2014,2015,2016,2017,2018,2019,2020])\n",
    "pyplot.show()"
   ]
  }
 ],
 "metadata": {
  "kernelspec": {
   "display_name": "mlenv",
   "language": "python",
   "name": "mlenv"
  },
  "language_info": {
   "codemirror_mode": {
    "name": "ipython",
    "version": 3
   },
   "file_extension": ".py",
   "mimetype": "text/x-python",
   "name": "python",
   "nbconvert_exporter": "python",
   "pygments_lexer": "ipython3",
   "version": "3.7.10"
  }
 },
 "nbformat": 4,
 "nbformat_minor": 5
}
