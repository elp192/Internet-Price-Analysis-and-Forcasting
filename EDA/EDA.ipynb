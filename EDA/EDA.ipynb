{
 "cells": [
  {
   "cell_type": "code",
   "execution_count": 1,
   "id": "58523b43",
   "metadata": {
    "scrolled": true
   },
   "outputs": [],
   "source": [
    "# Import dependencies\n",
    "import pandas as pd\n",
    "from matplotlib import pyplot"
   ]
  },
  {
   "cell_type": "code",
   "execution_count": 2,
   "id": "4bf9595c",
   "metadata": {},
   "outputs": [],
   "source": [
    "# Read file\n",
    "xls=pd.ExcelFile(\"../resource/data.xlsx\")\n",
    "df1 = pd.read_excel(xls, 'Price')\n",
    "df2 = pd.read_excel(xls, 'Location')"
   ]
  },
  {
   "cell_type": "code",
   "execution_count": 3,
   "id": "c47ec667",
   "metadata": {},
   "outputs": [],
   "source": [
    "# Change the column name\n",
    "df1_=df1.rename(columns={'LOCATION_ID':'ID'})"
   ]
  },
  {
   "cell_type": "code",
   "execution_count": 4,
   "id": "292cde8e",
   "metadata": {},
   "outputs": [
    {
     "name": "stdout",
     "output_type": "stream",
     "text": [
      "(3927, 6)\n"
     ]
    },
    {
     "data": {
      "text/html": [
       "<div>\n",
       "<style scoped>\n",
       "    .dataframe tbody tr th:only-of-type {\n",
       "        vertical-align: middle;\n",
       "    }\n",
       "\n",
       "    .dataframe tbody tr th {\n",
       "        vertical-align: top;\n",
       "    }\n",
       "\n",
       "    .dataframe thead th {\n",
       "        text-align: right;\n",
       "    }\n",
       "</style>\n",
       "<table border=\"1\" class=\"dataframe\">\n",
       "  <thead>\n",
       "    <tr style=\"text-align: right;\">\n",
       "      <th></th>\n",
       "      <th>ID</th>\n",
       "      <th>YEAR</th>\n",
       "      <th>INTERNET_PRICE</th>\n",
       "      <th>CITY</th>\n",
       "      <th>REGION</th>\n",
       "      <th>COUNTRY</th>\n",
       "    </tr>\n",
       "  </thead>\n",
       "  <tbody>\n",
       "    <tr>\n",
       "      <th>0</th>\n",
       "      <td>36333877</td>\n",
       "      <td>2020</td>\n",
       "      <td>109.553333</td>\n",
       "      <td>Anchorage</td>\n",
       "      <td>Alaska</td>\n",
       "      <td>United States</td>\n",
       "    </tr>\n",
       "    <tr>\n",
       "      <th>1</th>\n",
       "      <td>97066708</td>\n",
       "      <td>2020</td>\n",
       "      <td>109.223301</td>\n",
       "      <td>Male</td>\n",
       "      <td>Kaafu Atoll</td>\n",
       "      <td>Maldives</td>\n",
       "    </tr>\n",
       "    <tr>\n",
       "      <th>2</th>\n",
       "      <td>86180405</td>\n",
       "      <td>2020</td>\n",
       "      <td>104.833333</td>\n",
       "      <td>Harare</td>\n",
       "      <td>NaN</td>\n",
       "      <td>Zimbabwe</td>\n",
       "    </tr>\n",
       "    <tr>\n",
       "      <th>3</th>\n",
       "      <td>93339430</td>\n",
       "      <td>2020</td>\n",
       "      <td>101.023925</td>\n",
       "      <td>Abu Dhabi</td>\n",
       "      <td>Emirate of Abu Dhabi</td>\n",
       "      <td>United Arab Emirates</td>\n",
       "    </tr>\n",
       "    <tr>\n",
       "      <th>4</th>\n",
       "      <td>26718520</td>\n",
       "      <td>2020</td>\n",
       "      <td>99.333333</td>\n",
       "      <td>Santa Rosa</td>\n",
       "      <td>California</td>\n",
       "      <td>United States</td>\n",
       "    </tr>\n",
       "  </tbody>\n",
       "</table>\n",
       "</div>"
      ],
      "text/plain": [
       "         ID  YEAR  INTERNET_PRICE        CITY                REGION  \\\n",
       "0  36333877  2020      109.553333   Anchorage                Alaska   \n",
       "1  97066708  2020      109.223301        Male           Kaafu Atoll   \n",
       "2  86180405  2020      104.833333      Harare                   NaN   \n",
       "3  93339430  2020      101.023925   Abu Dhabi  Emirate of Abu Dhabi   \n",
       "4  26718520  2020       99.333333  Santa Rosa            California   \n",
       "\n",
       "                COUNTRY  \n",
       "0         United States  \n",
       "1              Maldives  \n",
       "2              Zimbabwe  \n",
       "3  United Arab Emirates  \n",
       "4         United States  "
      ]
     },
     "execution_count": 4,
     "metadata": {},
     "output_type": "execute_result"
    }
   ],
   "source": [
    "# left Join df1_ and df2\n",
    "df_new=pd.merge(df1_,df2,on='ID',how='left')\n",
    "print(df_new.shape)\n",
    "\n",
    "# Represent the first five rows of new table\n",
    "df_new.head()"
   ]
  },
  {
   "cell_type": "code",
   "execution_count": 5,
   "id": "054f3e17",
   "metadata": {},
   "outputs": [
    {
     "data": {
      "text/plain": [
       "count    3927.000000\n",
       "mean       39.996615\n",
       "std        27.179158\n",
       "min         1.866995\n",
       "25%        23.121728\n",
       "50%        37.403907\n",
       "75%        54.163430\n",
       "max       962.189981\n",
       "Name: INTERNET_PRICE, dtype: float64"
      ]
     },
     "execution_count": 5,
     "metadata": {},
     "output_type": "execute_result"
    }
   ],
   "source": [
    "# Summary Statistic for INTERNET_Price column\n",
    "df_new.describe().INTERNET_PRICE"
   ]
  },
  {
   "cell_type": "code",
   "execution_count": 6,
   "id": "4901b5ad",
   "metadata": {},
   "outputs": [
    {
     "name": "stdout",
     "output_type": "stream",
     "text": [
      "<class 'pandas.core.frame.DataFrame'>\n",
      "Int64Index: 3927 entries, 0 to 3926\n",
      "Data columns (total 6 columns):\n",
      " #   Column          Non-Null Count  Dtype  \n",
      "---  ------          --------------  -----  \n",
      " 0   ID              3927 non-null   int64  \n",
      " 1   YEAR            3927 non-null   int64  \n",
      " 2   INTERNET_PRICE  3927 non-null   float64\n",
      " 3   CITY            3927 non-null   object \n",
      " 4   REGION          3270 non-null   object \n",
      " 5   COUNTRY         3927 non-null   object \n",
      "dtypes: float64(1), int64(2), object(3)\n",
      "memory usage: 214.8+ KB\n"
     ]
    }
   ],
   "source": [
    "# Information about DataFrame\n",
    "df_new.info()"
   ]
  },
  {
   "cell_type": "code",
   "execution_count": 7,
   "id": "d701d8cd",
   "metadata": {},
   "outputs": [
    {
     "data": {
      "text/plain": [
       "0"
      ]
     },
     "execution_count": 7,
     "metadata": {},
     "output_type": "execute_result"
    }
   ],
   "source": [
    "# Determine if we have duplication in the dataset\n",
    "df_new.duplicated().sum()"
   ]
  },
  {
   "cell_type": "code",
   "execution_count": null,
   "id": "6f7a8b6e",
   "metadata": {},
   "outputs": [],
   "source": [
    "# Find outliers \n",
    "Q1 = df_new.INTERNET_PRICE.quantile(0.25)\n",
    "Q3 = df_new.INTERNET_PRICE.quantile(0.75)\n",
    "IQR = Q3 - Q1\n",
    "lowerbound = Q1-(1.5 * IQR)\n",
    "upperbound = Q3 + (1.5 * IQR)\n",
    "df_outlier=df_new[(df_new.INTERNET_PRICE < lowerbound) | (df_new.INTERNET_PRICE > upperbound)]\n",
    "df_outlier.shape"
   ]
  },
  {
   "cell_type": "code",
   "execution_count": null,
   "id": "e8170cac",
   "metadata": {},
   "outputs": [],
   "source": [
    "# Eliminate outliers\n",
    "df_new.drop(df_new[(df_new.INTERNET_PRICE > upperbound)|(df_new.INTERNET_PRICE<lowerbound) ].index , inplace=True)\n",
    "df_new.shape"
   ]
  },
  {
   "cell_type": "code",
   "execution_count": null,
   "id": "910793ef",
   "metadata": {},
   "outputs": [],
   "source": []
  },
  {
   "cell_type": "code",
   "execution_count": null,
   "id": "4f300c9f",
   "metadata": {},
   "outputs": [],
   "source": []
  }
 ],
 "metadata": {
  "kernelspec": {
   "display_name": "mlenv",
   "language": "python",
   "name": "mlenv"
  },
  "language_info": {
   "codemirror_mode": {
    "name": "ipython",
    "version": 3
   },
   "file_extension": ".py",
   "mimetype": "text/x-python",
   "name": "python",
   "nbconvert_exporter": "python",
   "pygments_lexer": "ipython3",
   "version": "3.7.10"
  }
 },
 "nbformat": 4,
 "nbformat_minor": 5
}
